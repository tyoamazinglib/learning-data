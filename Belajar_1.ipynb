{
 "cells": [
  {
   "cell_type": "code",
   "execution_count": 2,
   "id": "1e514b26",
   "metadata": {},
   "outputs": [],
   "source": [
    "import numpy as np\n",
    "import pandas as pd"
   ]
  },
  {
   "cell_type": "code",
   "execution_count": 3,
   "id": "39bc1161",
   "metadata": {},
   "outputs": [
    {
     "data": {
      "text/plain": [
       "array([1, 2, 3, 4, 5])"
      ]
     },
     "execution_count": 3,
     "metadata": {},
     "output_type": "execute_result"
    }
   ],
   "source": [
    "#create 1 dimension array\n",
    "arr_1D = np.array([1, 2, 3, 4, 5])\n",
    "arr_1D"
   ]
  },
  {
   "cell_type": "code",
   "execution_count": 6,
   "id": "e9ab9582",
   "metadata": {},
   "outputs": [
    {
     "data": {
      "text/plain": [
       "numpy.ndarray"
      ]
     },
     "execution_count": 6,
     "metadata": {},
     "output_type": "execute_result"
    }
   ],
   "source": [
    "type(arr_1D)"
   ]
  },
  {
   "cell_type": "code",
   "execution_count": 9,
   "id": "3e782f14",
   "metadata": {},
   "outputs": [
    {
     "data": {
      "text/plain": [
       "array([[1, 2, 3],\n",
       "       [4, 5, 6]])"
      ]
     },
     "execution_count": 9,
     "metadata": {},
     "output_type": "execute_result"
    }
   ],
   "source": [
    "#creating 2 dimenson\n",
    "arr_2D = np.array([[1, 2, 3], [4, 5, 6]])\n",
    "arr_2D"
   ]
  },
  {
   "cell_type": "code",
   "execution_count": 10,
   "id": "b9c04d9a",
   "metadata": {},
   "outputs": [
    {
     "data": {
      "text/plain": [
       "(2, 3)"
      ]
     },
     "execution_count": 10,
     "metadata": {},
     "output_type": "execute_result"
    }
   ],
   "source": [
    "arr_2D.shape"
   ]
  },
  {
   "cell_type": "code",
   "execution_count": 15,
   "id": "3de2dbad",
   "metadata": {},
   "outputs": [
    {
     "data": {
      "text/plain": [
       "array([[2],\n",
       "       [5]])"
      ]
     },
     "execution_count": 15,
     "metadata": {},
     "output_type": "execute_result"
    }
   ],
   "source": [
    "arr_2D[0:2, 1:2]"
   ]
  },
  {
   "cell_type": "code",
   "execution_count": 18,
   "id": "cf1942b2",
   "metadata": {
    "scrolled": true
   },
   "outputs": [
    {
     "data": {
      "text/plain": [
       "array([2, 5])"
      ]
     },
     "execution_count": 18,
     "metadata": {},
     "output_type": "execute_result"
    }
   ],
   "source": [
    "arr_2D[:, 1]"
   ]
  },
  {
   "cell_type": "code",
   "execution_count": 26,
   "id": "ecc6044c",
   "metadata": {
    "scrolled": true
   },
   "outputs": [
    {
     "data": {
      "text/plain": [
       "array([[1., 1., 1.],\n",
       "       [1., 1., 1.]])"
      ]
     },
     "execution_count": 26,
     "metadata": {},
     "output_type": "execute_result"
    }
   ],
   "source": [
    "#one of vales\n",
    "np.ones((2,3))"
   ]
  },
  {
   "cell_type": "code",
   "execution_count": 27,
   "id": "1c4a5866",
   "metadata": {
    "scrolled": true
   },
   "outputs": [
    {
     "data": {
      "text/plain": [
       "array([[0., 0., 0.],\n",
       "       [0., 0., 0.],\n",
       "       [0., 0., 0.],\n",
       "       [0., 0., 0.]])"
      ]
     },
     "execution_count": 27,
     "metadata": {},
     "output_type": "execute_result"
    }
   ],
   "source": [
    "#zero of vales\n",
    "np.zeros((4,3))"
   ]
  },
  {
   "cell_type": "markdown",
   "id": "f8f3c20d",
   "metadata": {},
   "source": [
    "## Intro to DataFrame\n",
    "1. Membuat dataframe dari:\n",
    "    - List\n",
    "    - Tuple\n",
    "    - Numpy Array\n",
    "    - Pandas Series\n",
    "    \n",
    "2. Membaca File menggunakan Datafreame:\n",
    "    - csv\n",
    "    - excel"
   ]
  },
  {
   "cell_type": "code",
   "execution_count": 31,
   "id": "e46e8b2f",
   "metadata": {},
   "outputs": [
    {
     "data": {
      "text/plain": [
       "<zip at 0x7ff214de57c0>"
      ]
     },
     "execution_count": 31,
     "metadata": {},
     "output_type": "execute_result"
    }
   ],
   "source": [
    "#list\n",
    "list1 =['Nasi Goreng', 'Bakso', \"Vander'c Spinach\"]\n",
    "list2 = [10000, 22000, 55000]\n",
    "list3 = ['Mampang', ' Lap Banteng', 'Monas']\n",
    "\n",
    "zip(list1, list2, list3)"
   ]
  },
  {
   "cell_type": "code",
   "execution_count": 32,
   "id": "2668aa66",
   "metadata": {},
   "outputs": [
    {
     "data": {
      "text/plain": [
       "[('Nasi Goreng', 10000, 'Mampang'),\n",
       " ('Bakso', 22000, ' Lap Banteng'),\n",
       " (\"Vander'c Spinach\", 55000, 'Monas')]"
      ]
     },
     "execution_count": 32,
     "metadata": {},
     "output_type": "execute_result"
    }
   ],
   "source": [
    "list(zip(list1, list2, list3))"
   ]
  },
  {
   "cell_type": "code",
   "execution_count": 33,
   "id": "f9f73735",
   "metadata": {},
   "outputs": [
    {
     "data": {
      "text/html": [
       "<div>\n",
       "<style scoped>\n",
       "    .dataframe tbody tr th:only-of-type {\n",
       "        vertical-align: middle;\n",
       "    }\n",
       "\n",
       "    .dataframe tbody tr th {\n",
       "        vertical-align: top;\n",
       "    }\n",
       "\n",
       "    .dataframe thead th {\n",
       "        text-align: right;\n",
       "    }\n",
       "</style>\n",
       "<table border=\"1\" class=\"dataframe\">\n",
       "  <thead>\n",
       "    <tr style=\"text-align: right;\">\n",
       "      <th></th>\n",
       "      <th>0</th>\n",
       "      <th>1</th>\n",
       "      <th>2</th>\n",
       "    </tr>\n",
       "  </thead>\n",
       "  <tbody>\n",
       "    <tr>\n",
       "      <th>0</th>\n",
       "      <td>Nasi Goreng</td>\n",
       "      <td>10000</td>\n",
       "      <td>Mampang</td>\n",
       "    </tr>\n",
       "    <tr>\n",
       "      <th>1</th>\n",
       "      <td>Bakso</td>\n",
       "      <td>22000</td>\n",
       "      <td>Lap Banteng</td>\n",
       "    </tr>\n",
       "    <tr>\n",
       "      <th>2</th>\n",
       "      <td>Vander'c Spinach</td>\n",
       "      <td>55000</td>\n",
       "      <td>Monas</td>\n",
       "    </tr>\n",
       "  </tbody>\n",
       "</table>\n",
       "</div>"
      ],
      "text/plain": [
       "                  0      1             2\n",
       "0       Nasi Goreng  10000       Mampang\n",
       "1             Bakso  22000   Lap Banteng\n",
       "2  Vander'c Spinach  55000         Monas"
      ]
     },
     "execution_count": 33,
     "metadata": {},
     "output_type": "execute_result"
    }
   ],
   "source": [
    "pd.DataFrame(list(zip(list1, list2, list3)))"
   ]
  },
  {
   "cell_type": "code",
   "execution_count": 37,
   "id": "b0ce8177",
   "metadata": {},
   "outputs": [
    {
     "data": {
      "text/html": [
       "<div>\n",
       "<style scoped>\n",
       "    .dataframe tbody tr th:only-of-type {\n",
       "        vertical-align: middle;\n",
       "    }\n",
       "\n",
       "    .dataframe tbody tr th {\n",
       "        vertical-align: top;\n",
       "    }\n",
       "\n",
       "    .dataframe thead th {\n",
       "        text-align: right;\n",
       "    }\n",
       "</style>\n",
       "<table border=\"1\" class=\"dataframe\">\n",
       "  <thead>\n",
       "    <tr style=\"text-align: right;\">\n",
       "      <th></th>\n",
       "      <th>Makanan</th>\n",
       "      <th>Harga</th>\n",
       "      <th>Lokasi</th>\n",
       "    </tr>\n",
       "  </thead>\n",
       "  <tbody>\n",
       "    <tr>\n",
       "      <th>0</th>\n",
       "      <td>Nasi Goreng</td>\n",
       "      <td>10000</td>\n",
       "      <td>Mampang</td>\n",
       "    </tr>\n",
       "    <tr>\n",
       "      <th>1</th>\n",
       "      <td>Bakso</td>\n",
       "      <td>22000</td>\n",
       "      <td>Lap Banteng</td>\n",
       "    </tr>\n",
       "    <tr>\n",
       "      <th>2</th>\n",
       "      <td>Vander'c Spinach</td>\n",
       "      <td>55000</td>\n",
       "      <td>Monas</td>\n",
       "    </tr>\n",
       "  </tbody>\n",
       "</table>\n",
       "</div>"
      ],
      "text/plain": [
       "            Makanan  Harga        Lokasi\n",
       "0       Nasi Goreng  10000       Mampang\n",
       "1             Bakso  22000   Lap Banteng\n",
       "2  Vander'c Spinach  55000         Monas"
      ]
     },
     "execution_count": 37,
     "metadata": {},
     "output_type": "execute_result"
    }
   ],
   "source": [
    "df_list = pd.DataFrame(list(zip(list1, list2, list3)), columns=['Makanan', 'Harga', 'Lokasi'])\n",
    "df_list"
   ]
  },
  {
   "cell_type": "code",
   "execution_count": 38,
   "id": "b3c7c7c2",
   "metadata": {},
   "outputs": [
    {
     "data": {
      "text/plain": [
       "pandas.core.frame.DataFrame"
      ]
     },
     "execution_count": 38,
     "metadata": {},
     "output_type": "execute_result"
    }
   ],
   "source": [
    "type(df_list)"
   ]
  },
  {
   "cell_type": "code",
   "execution_count": 40,
   "id": "a8f9a212",
   "metadata": {},
   "outputs": [
    {
     "data": {
      "text/plain": [
       "pandas.core.frame.DataFrame"
      ]
     },
     "metadata": {},
     "output_type": "display_data"
    }
   ],
   "source": [
    "display(type(df_list))"
   ]
  },
  {
   "cell_type": "code",
   "execution_count": 42,
   "id": "d0243d36",
   "metadata": {},
   "outputs": [
    {
     "name": "stdout",
     "output_type": "stream",
     "text": [
      "<class 'pandas.core.frame.DataFrame'>\n",
      "RangeIndex: 3 entries, 0 to 2\n",
      "Data columns (total 3 columns):\n",
      " #   Column   Non-Null Count  Dtype \n",
      "---  ------   --------------  ----- \n",
      " 0   Makanan  3 non-null      object\n",
      " 1   Harga    3 non-null      int64 \n",
      " 2   Lokasi   3 non-null      object\n",
      "dtypes: int64(1), object(2)\n",
      "memory usage: 200.0+ bytes\n"
     ]
    },
    {
     "data": {
      "text/plain": [
       "None"
      ]
     },
     "metadata": {},
     "output_type": "display_data"
    }
   ],
   "source": [
    "display(df_list.info())"
   ]
  },
  {
   "cell_type": "code",
   "execution_count": 46,
   "id": "445ca22c",
   "metadata": {},
   "outputs": [
    {
     "data": {
      "text/html": [
       "<div>\n",
       "<style scoped>\n",
       "    .dataframe tbody tr th:only-of-type {\n",
       "        vertical-align: middle;\n",
       "    }\n",
       "\n",
       "    .dataframe tbody tr th {\n",
       "        vertical-align: top;\n",
       "    }\n",
       "\n",
       "    .dataframe thead th {\n",
       "        text-align: right;\n",
       "    }\n",
       "</style>\n",
       "<table border=\"1\" class=\"dataframe\">\n",
       "  <thead>\n",
       "    <tr style=\"text-align: right;\">\n",
       "      <th></th>\n",
       "      <th>Makanan</th>\n",
       "      <th>Harga</th>\n",
       "      <th>Lokasi</th>\n",
       "    </tr>\n",
       "  </thead>\n",
       "  <tbody>\n",
       "    <tr>\n",
       "      <th>0</th>\n",
       "      <td>Nasi Goreng</td>\n",
       "      <td>10000</td>\n",
       "      <td>Mampang</td>\n",
       "    </tr>\n",
       "    <tr>\n",
       "      <th>1</th>\n",
       "      <td>Bakso</td>\n",
       "      <td>22000</td>\n",
       "      <td>Lap Banteng</td>\n",
       "    </tr>\n",
       "    <tr>\n",
       "      <th>2</th>\n",
       "      <td>Vander'c Spinach</td>\n",
       "      <td>55000</td>\n",
       "      <td>Monas</td>\n",
       "    </tr>\n",
       "  </tbody>\n",
       "</table>\n",
       "</div>"
      ],
      "text/plain": [
       "            Makanan  Harga       Lokasi\n",
       "0       Nasi Goreng  10000      Mampang\n",
       "1             Bakso  22000  Lap Banteng\n",
       "2  Vander'c Spinach  55000        Monas"
      ]
     },
     "execution_count": 46,
     "metadata": {},
     "output_type": "execute_result"
    }
   ],
   "source": [
    "# Tuple\n",
    "tuple1 = ('Nasi Goreng', 10000, 'Mampang')\n",
    "tuple2 = ('Bakso', 22000, 'Lap Banteng')\n",
    "tuple3 = (\"Vander'c Spinach\", 55000, 'Monas')\n",
    "\n",
    "df_tuple = pd.DataFrame([tuple1, tuple2, tuple3], columns=['Makanan', 'Harga', 'Lokasi'])\n",
    "df_tuple"
   ]
  },
  {
   "cell_type": "code",
   "execution_count": 47,
   "id": "2c5967b1",
   "metadata": {},
   "outputs": [
    {
     "name": "stdout",
     "output_type": "stream",
     "text": [
      "<class 'pandas.core.frame.DataFrame'>\n",
      "RangeIndex: 3 entries, 0 to 2\n",
      "Data columns (total 3 columns):\n",
      " #   Column   Non-Null Count  Dtype \n",
      "---  ------   --------------  ----- \n",
      " 0   Makanan  3 non-null      object\n",
      " 1   Harga    3 non-null      int64 \n",
      " 2   Lokasi   3 non-null      object\n",
      "dtypes: int64(1), object(2)\n",
      "memory usage: 200.0+ bytes\n"
     ]
    },
    {
     "data": {
      "text/plain": [
       "None"
      ]
     },
     "metadata": {},
     "output_type": "display_data"
    },
    {
     "data": {
      "text/plain": [
       "pandas.core.frame.DataFrame"
      ]
     },
     "metadata": {},
     "output_type": "display_data"
    }
   ],
   "source": [
    "display(df_tuple.info())\n",
    "display(type(df_tuple))"
   ]
  },
  {
   "cell_type": "code",
   "execution_count": 69,
   "id": "aebf9ed0",
   "metadata": {},
   "outputs": [
    {
     "data": {
      "text/html": [
       "<div>\n",
       "<style scoped>\n",
       "    .dataframe tbody tr th:only-of-type {\n",
       "        vertical-align: middle;\n",
       "    }\n",
       "\n",
       "    .dataframe tbody tr th {\n",
       "        vertical-align: top;\n",
       "    }\n",
       "\n",
       "    .dataframe thead th {\n",
       "        text-align: right;\n",
       "    }\n",
       "</style>\n",
       "<table border=\"1\" class=\"dataframe\">\n",
       "  <thead>\n",
       "    <tr style=\"text-align: right;\">\n",
       "      <th></th>\n",
       "      <th>Makanan</th>\n",
       "      <th>Harga</th>\n",
       "      <th>Lokasi</th>\n",
       "      <th>Rating</th>\n",
       "      <th>Tanggal Rating</th>\n",
       "    </tr>\n",
       "  </thead>\n",
       "  <tbody>\n",
       "    <tr>\n",
       "      <th>0</th>\n",
       "      <td>Nasi Goreng</td>\n",
       "      <td>10000</td>\n",
       "      <td>Mampang</td>\n",
       "      <td>2.5</td>\n",
       "      <td>23-10-2023</td>\n",
       "    </tr>\n",
       "    <tr>\n",
       "      <th>1</th>\n",
       "      <td>Bakso</td>\n",
       "      <td>22000</td>\n",
       "      <td>Lap. Banteng</td>\n",
       "      <td>4.0</td>\n",
       "      <td>11-10-2023</td>\n",
       "    </tr>\n",
       "    <tr>\n",
       "      <th>2</th>\n",
       "      <td>Vander'c Spinach</td>\n",
       "      <td>55000</td>\n",
       "      <td>Monas</td>\n",
       "      <td>3.5</td>\n",
       "      <td>20-11-2023</td>\n",
       "    </tr>\n",
       "  </tbody>\n",
       "</table>\n",
       "</div>"
      ],
      "text/plain": [
       "            Makanan  Harga        Lokasi Rating Tanggal Rating\n",
       "0       Nasi Goreng  10000       Mampang    2.5     23-10-2023\n",
       "1             Bakso  22000  Lap. Banteng    4.0     11-10-2023\n",
       "2  Vander'c Spinach  55000         Monas    3.5     20-11-2023"
      ]
     },
     "execution_count": 69,
     "metadata": {},
     "output_type": "execute_result"
    }
   ],
   "source": [
    "df_array = pd.DataFrame(np.array([['Nasi Goreng', 10000, 'Mampang', 2.5, '23-10-2023'],\n",
    "                         ['Bakso', 22000, 'Lap. Banteng', 4.0, '11-10-2023'],\n",
    "                         [\"Vander'c Spinach\", 55000, 'Monas', 3.5, '20-11-2023']]),\n",
    "                        columns=['Makanan', 'Harga', 'Lokasi', 'Rating', 'Tanggal Rating'])\n",
    "\n",
    "df_array"
   ]
  },
  {
   "cell_type": "code",
   "execution_count": 70,
   "id": "4ed5e641",
   "metadata": {},
   "outputs": [
    {
     "name": "stdout",
     "output_type": "stream",
     "text": [
      "<class 'pandas.core.frame.DataFrame'>\n",
      "RangeIndex: 3 entries, 0 to 2\n",
      "Data columns (total 5 columns):\n",
      " #   Column          Non-Null Count  Dtype \n",
      "---  ------          --------------  ----- \n",
      " 0   Makanan         3 non-null      object\n",
      " 1   Harga           3 non-null      object\n",
      " 2   Lokasi          3 non-null      object\n",
      " 3   Rating          3 non-null      object\n",
      " 4   Tanggal Rating  3 non-null      object\n",
      "dtypes: object(5)\n",
      "memory usage: 248.0+ bytes\n"
     ]
    },
    {
     "data": {
      "text/plain": [
       "None"
      ]
     },
     "metadata": {},
     "output_type": "display_data"
    }
   ],
   "source": [
    "display(df_array.info())"
   ]
  },
  {
   "cell_type": "code",
   "execution_count": 71,
   "id": "ae120f37",
   "metadata": {},
   "outputs": [
    {
     "data": {
      "text/html": [
       "<div>\n",
       "<style scoped>\n",
       "    .dataframe tbody tr th:only-of-type {\n",
       "        vertical-align: middle;\n",
       "    }\n",
       "\n",
       "    .dataframe tbody tr th {\n",
       "        vertical-align: top;\n",
       "    }\n",
       "\n",
       "    .dataframe thead th {\n",
       "        text-align: right;\n",
       "    }\n",
       "</style>\n",
       "<table border=\"1\" class=\"dataframe\">\n",
       "  <thead>\n",
       "    <tr style=\"text-align: right;\">\n",
       "      <th></th>\n",
       "      <th>Makanan</th>\n",
       "      <th>Harga</th>\n",
       "      <th>Lokasi</th>\n",
       "      <th>Rating</th>\n",
       "      <th>Tanggal Rating</th>\n",
       "    </tr>\n",
       "  </thead>\n",
       "  <tbody>\n",
       "    <tr>\n",
       "      <th>0</th>\n",
       "      <td>Nasi Goreng</td>\n",
       "      <td>10000</td>\n",
       "      <td>Mampang</td>\n",
       "      <td>2.5</td>\n",
       "      <td>2023-10-23</td>\n",
       "    </tr>\n",
       "    <tr>\n",
       "      <th>1</th>\n",
       "      <td>Bakso</td>\n",
       "      <td>22000</td>\n",
       "      <td>Lap. Banteng</td>\n",
       "      <td>4.0</td>\n",
       "      <td>2023-11-10</td>\n",
       "    </tr>\n",
       "    <tr>\n",
       "      <th>2</th>\n",
       "      <td>Vander'c Spinach</td>\n",
       "      <td>55000</td>\n",
       "      <td>Monas</td>\n",
       "      <td>3.5</td>\n",
       "      <td>2023-11-20</td>\n",
       "    </tr>\n",
       "  </tbody>\n",
       "</table>\n",
       "</div>"
      ],
      "text/plain": [
       "            Makanan  Harga        Lokasi  Rating Tanggal Rating\n",
       "0       Nasi Goreng  10000       Mampang     2.5     2023-10-23\n",
       "1             Bakso  22000  Lap. Banteng     4.0     2023-11-10\n",
       "2  Vander'c Spinach  55000         Monas     3.5     2023-11-20"
      ]
     },
     "execution_count": 71,
     "metadata": {},
     "output_type": "execute_result"
    }
   ],
   "source": [
    "df_array['Harga'] = df_array['Harga'].astype('int64')\n",
    "df_array['Rating'] = df_array['Rating'].astype('float64')\n",
    "df_array['Tanggal Rating'] = df_array['Tanggal Rating'].astype('datetime64[ns]')\n",
    "df_array"
   ]
  },
  {
   "cell_type": "code",
   "execution_count": 72,
   "id": "fb31b754",
   "metadata": {},
   "outputs": [
    {
     "name": "stdout",
     "output_type": "stream",
     "text": [
      "<class 'pandas.core.frame.DataFrame'>\n",
      "RangeIndex: 3 entries, 0 to 2\n",
      "Data columns (total 5 columns):\n",
      " #   Column          Non-Null Count  Dtype         \n",
      "---  ------          --------------  -----         \n",
      " 0   Makanan         3 non-null      object        \n",
      " 1   Harga           3 non-null      int64         \n",
      " 2   Lokasi          3 non-null      object        \n",
      " 3   Rating          3 non-null      float64       \n",
      " 4   Tanggal Rating  3 non-null      datetime64[ns]\n",
      "dtypes: datetime64[ns](1), float64(1), int64(1), object(2)\n",
      "memory usage: 248.0+ bytes\n"
     ]
    },
    {
     "data": {
      "text/plain": [
       "None"
      ]
     },
     "metadata": {},
     "output_type": "display_data"
    }
   ],
   "source": [
    "display(df_array.info())"
   ]
  },
  {
   "cell_type": "code",
   "execution_count": 75,
   "id": "cd721659",
   "metadata": {},
   "outputs": [
    {
     "data": {
      "text/html": [
       "<div>\n",
       "<style scoped>\n",
       "    .dataframe tbody tr th:only-of-type {\n",
       "        vertical-align: middle;\n",
       "    }\n",
       "\n",
       "    .dataframe tbody tr th {\n",
       "        vertical-align: top;\n",
       "    }\n",
       "\n",
       "    .dataframe thead th {\n",
       "        text-align: right;\n",
       "    }\n",
       "</style>\n",
       "<table border=\"1\" class=\"dataframe\">\n",
       "  <thead>\n",
       "    <tr style=\"text-align: right;\">\n",
       "      <th></th>\n",
       "      <th>Makanan</th>\n",
       "      <th>Harga</th>\n",
       "      <th>Lokasi</th>\n",
       "    </tr>\n",
       "  </thead>\n",
       "  <tbody>\n",
       "    <tr>\n",
       "      <th>0</th>\n",
       "      <td>Nasi Goreng</td>\n",
       "      <td>10000</td>\n",
       "      <td>Mampang</td>\n",
       "    </tr>\n",
       "    <tr>\n",
       "      <th>1</th>\n",
       "      <td>Bakso</td>\n",
       "      <td>22000</td>\n",
       "      <td>Lap Banteng</td>\n",
       "    </tr>\n",
       "    <tr>\n",
       "      <th>2</th>\n",
       "      <td>Vander'c Spinach</td>\n",
       "      <td>55000</td>\n",
       "      <td>Monas</td>\n",
       "    </tr>\n",
       "  </tbody>\n",
       "</table>\n",
       "</div>"
      ],
      "text/plain": [
       "            Makanan  Harga        Lokasi\n",
       "0       Nasi Goreng  10000       Mampang\n",
       "1             Bakso  22000   Lap Banteng\n",
       "2  Vander'c Spinach  55000         Monas"
      ]
     },
     "execution_count": 75,
     "metadata": {},
     "output_type": "execute_result"
    }
   ],
   "source": [
    "series1 = pd.Series(['Nasi Goreng', 'Bakso', \"Vander'c Spinach\"])\n",
    "series2 = pd.Series([10000, 22000, 55000])\n",
    "series3 = pd.Series(['Mampang', ' Lap Banteng', 'Monas'])\n",
    "\n",
    "df_series = pd.DataFrame({'Makanan':series1,\n",
    "                         'Harga':series2,\n",
    "                         'Lokasi':series3})\n",
    "df_series"
   ]
  },
  {
   "cell_type": "code",
   "execution_count": 76,
   "id": "041482a3",
   "metadata": {},
   "outputs": [
    {
     "name": "stdout",
     "output_type": "stream",
     "text": [
      "<class 'pandas.core.frame.DataFrame'>\n",
      "RangeIndex: 3 entries, 0 to 2\n",
      "Data columns (total 3 columns):\n",
      " #   Column   Non-Null Count  Dtype \n",
      "---  ------   --------------  ----- \n",
      " 0   Makanan  3 non-null      object\n",
      " 1   Harga    3 non-null      int64 \n",
      " 2   Lokasi   3 non-null      object\n",
      "dtypes: int64(1), object(2)\n",
      "memory usage: 200.0+ bytes\n"
     ]
    }
   ],
   "source": [
    "df_series.info()"
   ]
  },
  {
   "cell_type": "code",
   "execution_count": 79,
   "id": "33731845",
   "metadata": {},
   "outputs": [
    {
     "data": {
      "text/html": [
       "<div>\n",
       "<style scoped>\n",
       "    .dataframe tbody tr th:only-of-type {\n",
       "        vertical-align: middle;\n",
       "    }\n",
       "\n",
       "    .dataframe tbody tr th {\n",
       "        vertical-align: top;\n",
       "    }\n",
       "\n",
       "    .dataframe thead th {\n",
       "        text-align: right;\n",
       "    }\n",
       "</style>\n",
       "<table border=\"1\" class=\"dataframe\">\n",
       "  <thead>\n",
       "    <tr style=\"text-align: right;\">\n",
       "      <th></th>\n",
       "      <th>Makanan</th>\n",
       "      <th>Harga</th>\n",
       "      <th>Lokasi</th>\n",
       "      <th>Tanggal</th>\n",
       "    </tr>\n",
       "  </thead>\n",
       "  <tbody>\n",
       "    <tr>\n",
       "      <th>0</th>\n",
       "      <td>Nasi Goreng</td>\n",
       "      <td>10000</td>\n",
       "      <td>Mampang</td>\n",
       "      <td>2023-10-11 03:00:00</td>\n",
       "    </tr>\n",
       "    <tr>\n",
       "      <th>1</th>\n",
       "      <td>Bakso</td>\n",
       "      <td>22000</td>\n",
       "      <td>Lap Banteng</td>\n",
       "      <td>2023-10-12 03:00:00</td>\n",
       "    </tr>\n",
       "    <tr>\n",
       "      <th>2</th>\n",
       "      <td>Vander'c Spinach</td>\n",
       "      <td>55000</td>\n",
       "      <td>Monas</td>\n",
       "      <td>2023-10-13 03:00:00</td>\n",
       "    </tr>\n",
       "  </tbody>\n",
       "</table>\n",
       "</div>"
      ],
      "text/plain": [
       "            Makanan  Harga        Lokasi             Tanggal\n",
       "0       Nasi Goreng  10000       Mampang 2023-10-11 03:00:00\n",
       "1             Bakso  22000   Lap Banteng 2023-10-12 03:00:00\n",
       "2  Vander'c Spinach  55000         Monas 2023-10-13 03:00:00"
      ]
     },
     "execution_count": 79,
     "metadata": {},
     "output_type": "execute_result"
    }
   ],
   "source": [
    "list1 = ['Nasi Goreng', 'Bakso', \"Vander'c Spinach\"]\n",
    "list2 = [10000, 22000, 55000]\n",
    "list3 = ['Mampang', ' Lap Banteng', 'Monas']\n",
    "list4 = pd.date_range('10-11-2023 03:00', periods = 3)\n",
    "\n",
    "intermezo = pd.DataFrame(list(zip(list1, list2, list3, list4)),columns=['Makanan', 'Harga', 'Lokasi', 'Tanggal'])\n",
    "intermezo"
   ]
  },
  {
   "cell_type": "code",
   "execution_count": 80,
   "id": "11d5b87a",
   "metadata": {},
   "outputs": [
    {
     "data": {
      "text/html": [
       "<div>\n",
       "<style scoped>\n",
       "    .dataframe tbody tr th:only-of-type {\n",
       "        vertical-align: middle;\n",
       "    }\n",
       "\n",
       "    .dataframe tbody tr th {\n",
       "        vertical-align: top;\n",
       "    }\n",
       "\n",
       "    .dataframe thead th {\n",
       "        text-align: right;\n",
       "    }\n",
       "</style>\n",
       "<table border=\"1\" class=\"dataframe\">\n",
       "  <thead>\n",
       "    <tr style=\"text-align: right;\">\n",
       "      <th></th>\n",
       "      <th>Makanan</th>\n",
       "      <th>Harga</th>\n",
       "      <th>Lokasi</th>\n",
       "      <th>Tanggal</th>\n",
       "      <th>Jam</th>\n",
       "      <th>Hari</th>\n",
       "    </tr>\n",
       "  </thead>\n",
       "  <tbody>\n",
       "    <tr>\n",
       "      <th>0</th>\n",
       "      <td>Nasi Goreng</td>\n",
       "      <td>10000</td>\n",
       "      <td>Mampang</td>\n",
       "      <td>2023-10-11 03:00:00</td>\n",
       "      <td>03:00:00</td>\n",
       "      <td>2023-10-11</td>\n",
       "    </tr>\n",
       "    <tr>\n",
       "      <th>1</th>\n",
       "      <td>Bakso</td>\n",
       "      <td>22000</td>\n",
       "      <td>Lap Banteng</td>\n",
       "      <td>2023-10-12 03:00:00</td>\n",
       "      <td>03:00:00</td>\n",
       "      <td>2023-10-12</td>\n",
       "    </tr>\n",
       "    <tr>\n",
       "      <th>2</th>\n",
       "      <td>Vander'c Spinach</td>\n",
       "      <td>55000</td>\n",
       "      <td>Monas</td>\n",
       "      <td>2023-10-13 03:00:00</td>\n",
       "      <td>03:00:00</td>\n",
       "      <td>2023-10-13</td>\n",
       "    </tr>\n",
       "  </tbody>\n",
       "</table>\n",
       "</div>"
      ],
      "text/plain": [
       "            Makanan  Harga        Lokasi             Tanggal       Jam  \\\n",
       "0       Nasi Goreng  10000       Mampang 2023-10-11 03:00:00  03:00:00   \n",
       "1             Bakso  22000   Lap Banteng 2023-10-12 03:00:00  03:00:00   \n",
       "2  Vander'c Spinach  55000         Monas 2023-10-13 03:00:00  03:00:00   \n",
       "\n",
       "         Hari  \n",
       "0  2023-10-11  \n",
       "1  2023-10-12  \n",
       "2  2023-10-13  "
      ]
     },
     "execution_count": 80,
     "metadata": {},
     "output_type": "execute_result"
    }
   ],
   "source": [
    "intermezo['Jam'] = pd.to_datetime(intermezo['Tanggal']).dt.time\n",
    "intermezo['Hari'] = pd.to_datetime(intermezo['Tanggal']).dt.date\n",
    "intermezo"
   ]
  },
  {
   "cell_type": "code",
   "execution_count": 81,
   "id": "35b30f8d",
   "metadata": {},
   "outputs": [
    {
     "name": "stdout",
     "output_type": "stream",
     "text": [
      "<class 'pandas.core.frame.DataFrame'>\n",
      "RangeIndex: 3 entries, 0 to 2\n",
      "Data columns (total 6 columns):\n",
      " #   Column   Non-Null Count  Dtype         \n",
      "---  ------   --------------  -----         \n",
      " 0   Makanan  3 non-null      object        \n",
      " 1   Harga    3 non-null      int64         \n",
      " 2   Lokasi   3 non-null      object        \n",
      " 3   Tanggal  3 non-null      datetime64[ns]\n",
      " 4   Jam      3 non-null      object        \n",
      " 5   Hari     3 non-null      object        \n",
      "dtypes: datetime64[ns](1), int64(1), object(4)\n",
      "memory usage: 272.0+ bytes\n"
     ]
    }
   ],
   "source": [
    "intermezo.info()"
   ]
  },
  {
   "cell_type": "code",
   "execution_count": 84,
   "id": "8b83a22d",
   "metadata": {},
   "outputs": [
    {
     "data": {
      "text/html": [
       "<div>\n",
       "<style scoped>\n",
       "    .dataframe tbody tr th:only-of-type {\n",
       "        vertical-align: middle;\n",
       "    }\n",
       "\n",
       "    .dataframe tbody tr th {\n",
       "        vertical-align: top;\n",
       "    }\n",
       "\n",
       "    .dataframe thead th {\n",
       "        text-align: right;\n",
       "    }\n",
       "</style>\n",
       "<table border=\"1\" class=\"dataframe\">\n",
       "  <thead>\n",
       "    <tr style=\"text-align: right;\">\n",
       "      <th></th>\n",
       "      <th>Row ID</th>\n",
       "      <th>Order ID</th>\n",
       "      <th>Order Date</th>\n",
       "      <th>Ship Date</th>\n",
       "      <th>Ship Mode</th>\n",
       "      <th>Customer ID</th>\n",
       "      <th>Customer Name</th>\n",
       "      <th>Segment</th>\n",
       "      <th>Country</th>\n",
       "      <th>City</th>\n",
       "      <th>...</th>\n",
       "      <th>Postal Code</th>\n",
       "      <th>Region</th>\n",
       "      <th>Product ID</th>\n",
       "      <th>Category</th>\n",
       "      <th>Sub-Category</th>\n",
       "      <th>Product Name</th>\n",
       "      <th>Sales</th>\n",
       "      <th>Quantity</th>\n",
       "      <th>Discount</th>\n",
       "      <th>Profit</th>\n",
       "    </tr>\n",
       "  </thead>\n",
       "  <tbody>\n",
       "    <tr>\n",
       "      <th>0</th>\n",
       "      <td>1</td>\n",
       "      <td>CA-2016-152156</td>\n",
       "      <td>11/8/2016</td>\n",
       "      <td>11/11/2016</td>\n",
       "      <td>Second Class</td>\n",
       "      <td>CG-12520</td>\n",
       "      <td>Claire Gute</td>\n",
       "      <td>Consumer</td>\n",
       "      <td>United States</td>\n",
       "      <td>Henderson</td>\n",
       "      <td>...</td>\n",
       "      <td>42420</td>\n",
       "      <td>South</td>\n",
       "      <td>FUR-BO-10001798</td>\n",
       "      <td>Furniture</td>\n",
       "      <td>Bookcases</td>\n",
       "      <td>Bush Somerset Collection Bookcase</td>\n",
       "      <td>261.9600</td>\n",
       "      <td>2</td>\n",
       "      <td>0.00</td>\n",
       "      <td>41.9136</td>\n",
       "    </tr>\n",
       "    <tr>\n",
       "      <th>1</th>\n",
       "      <td>2</td>\n",
       "      <td>CA-2016-152156</td>\n",
       "      <td>11/8/2016</td>\n",
       "      <td>11/11/2016</td>\n",
       "      <td>Second Class</td>\n",
       "      <td>CG-12520</td>\n",
       "      <td>Claire Gute</td>\n",
       "      <td>Consumer</td>\n",
       "      <td>United States</td>\n",
       "      <td>Henderson</td>\n",
       "      <td>...</td>\n",
       "      <td>42420</td>\n",
       "      <td>South</td>\n",
       "      <td>FUR-CH-10000454</td>\n",
       "      <td>Furniture</td>\n",
       "      <td>Chairs</td>\n",
       "      <td>Hon Deluxe Fabric Upholstered Stacking Chairs,...</td>\n",
       "      <td>731.9400</td>\n",
       "      <td>3</td>\n",
       "      <td>0.00</td>\n",
       "      <td>219.5820</td>\n",
       "    </tr>\n",
       "    <tr>\n",
       "      <th>2</th>\n",
       "      <td>3</td>\n",
       "      <td>CA-2016-138688</td>\n",
       "      <td>6/12/2016</td>\n",
       "      <td>6/16/2016</td>\n",
       "      <td>Second Class</td>\n",
       "      <td>DV-13045</td>\n",
       "      <td>Darrin Van Huff</td>\n",
       "      <td>Corporate</td>\n",
       "      <td>United States</td>\n",
       "      <td>Los Angeles</td>\n",
       "      <td>...</td>\n",
       "      <td>90036</td>\n",
       "      <td>West</td>\n",
       "      <td>OFF-LA-10000240</td>\n",
       "      <td>Office Supplies</td>\n",
       "      <td>Labels</td>\n",
       "      <td>Self-Adhesive Address Labels for Typewriters b...</td>\n",
       "      <td>14.6200</td>\n",
       "      <td>2</td>\n",
       "      <td>0.00</td>\n",
       "      <td>6.8714</td>\n",
       "    </tr>\n",
       "    <tr>\n",
       "      <th>3</th>\n",
       "      <td>4</td>\n",
       "      <td>US-2015-108966</td>\n",
       "      <td>10/11/2015</td>\n",
       "      <td>10/18/2015</td>\n",
       "      <td>Standard Class</td>\n",
       "      <td>SO-20335</td>\n",
       "      <td>Sean O'Donnell</td>\n",
       "      <td>Consumer</td>\n",
       "      <td>United States</td>\n",
       "      <td>Fort Lauderdale</td>\n",
       "      <td>...</td>\n",
       "      <td>33311</td>\n",
       "      <td>South</td>\n",
       "      <td>FUR-TA-10000577</td>\n",
       "      <td>Furniture</td>\n",
       "      <td>Tables</td>\n",
       "      <td>Bretford CR4500 Series Slim Rectangular Table</td>\n",
       "      <td>957.5775</td>\n",
       "      <td>5</td>\n",
       "      <td>0.45</td>\n",
       "      <td>-383.0310</td>\n",
       "    </tr>\n",
       "    <tr>\n",
       "      <th>4</th>\n",
       "      <td>5</td>\n",
       "      <td>US-2015-108966</td>\n",
       "      <td>10/11/2015</td>\n",
       "      <td>10/18/2015</td>\n",
       "      <td>Standard Class</td>\n",
       "      <td>SO-20335</td>\n",
       "      <td>Sean O'Donnell</td>\n",
       "      <td>Consumer</td>\n",
       "      <td>United States</td>\n",
       "      <td>Fort Lauderdale</td>\n",
       "      <td>...</td>\n",
       "      <td>33311</td>\n",
       "      <td>South</td>\n",
       "      <td>OFF-ST-10000760</td>\n",
       "      <td>Office Supplies</td>\n",
       "      <td>Storage</td>\n",
       "      <td>Eldon Fold 'N Roll Cart System</td>\n",
       "      <td>22.3680</td>\n",
       "      <td>2</td>\n",
       "      <td>0.20</td>\n",
       "      <td>2.5164</td>\n",
       "    </tr>\n",
       "  </tbody>\n",
       "</table>\n",
       "<p>5 rows × 21 columns</p>\n",
       "</div>"
      ],
      "text/plain": [
       "   Row ID        Order ID  Order Date   Ship Date       Ship Mode Customer ID  \\\n",
       "0       1  CA-2016-152156   11/8/2016  11/11/2016    Second Class    CG-12520   \n",
       "1       2  CA-2016-152156   11/8/2016  11/11/2016    Second Class    CG-12520   \n",
       "2       3  CA-2016-138688   6/12/2016   6/16/2016    Second Class    DV-13045   \n",
       "3       4  US-2015-108966  10/11/2015  10/18/2015  Standard Class    SO-20335   \n",
       "4       5  US-2015-108966  10/11/2015  10/18/2015  Standard Class    SO-20335   \n",
       "\n",
       "     Customer Name    Segment        Country             City  ...  \\\n",
       "0      Claire Gute   Consumer  United States        Henderson  ...   \n",
       "1      Claire Gute   Consumer  United States        Henderson  ...   \n",
       "2  Darrin Van Huff  Corporate  United States      Los Angeles  ...   \n",
       "3   Sean O'Donnell   Consumer  United States  Fort Lauderdale  ...   \n",
       "4   Sean O'Donnell   Consumer  United States  Fort Lauderdale  ...   \n",
       "\n",
       "  Postal Code  Region       Product ID         Category Sub-Category  \\\n",
       "0       42420   South  FUR-BO-10001798        Furniture    Bookcases   \n",
       "1       42420   South  FUR-CH-10000454        Furniture       Chairs   \n",
       "2       90036    West  OFF-LA-10000240  Office Supplies       Labels   \n",
       "3       33311   South  FUR-TA-10000577        Furniture       Tables   \n",
       "4       33311   South  OFF-ST-10000760  Office Supplies      Storage   \n",
       "\n",
       "                                        Product Name     Sales  Quantity  \\\n",
       "0                  Bush Somerset Collection Bookcase  261.9600         2   \n",
       "1  Hon Deluxe Fabric Upholstered Stacking Chairs,...  731.9400         3   \n",
       "2  Self-Adhesive Address Labels for Typewriters b...   14.6200         2   \n",
       "3      Bretford CR4500 Series Slim Rectangular Table  957.5775         5   \n",
       "4                     Eldon Fold 'N Roll Cart System   22.3680         2   \n",
       "\n",
       "   Discount    Profit  \n",
       "0      0.00   41.9136  \n",
       "1      0.00  219.5820  \n",
       "2      0.00    6.8714  \n",
       "3      0.45 -383.0310  \n",
       "4      0.20    2.5164  \n",
       "\n",
       "[5 rows x 21 columns]"
      ]
     },
     "execution_count": 84,
     "metadata": {},
     "output_type": "execute_result"
    }
   ],
   "source": [
    "#read csv from local\n",
    "df =  pd.read_csv('/home/tyo/Downloads/Sample-Superstore-Orders.csv')\n",
    "df.head(5)"
   ]
  },
  {
   "cell_type": "code",
   "execution_count": 85,
   "id": "44068c79",
   "metadata": {},
   "outputs": [
    {
     "name": "stdout",
     "output_type": "stream",
     "text": [
      "<class 'pandas.core.frame.DataFrame'>\n",
      "RangeIndex: 9994 entries, 0 to 9993\n",
      "Data columns (total 21 columns):\n",
      " #   Column         Non-Null Count  Dtype  \n",
      "---  ------         --------------  -----  \n",
      " 0   Row ID         9994 non-null   int64  \n",
      " 1   Order ID       9994 non-null   object \n",
      " 2   Order Date     9994 non-null   object \n",
      " 3   Ship Date      9994 non-null   object \n",
      " 4   Ship Mode      9994 non-null   object \n",
      " 5   Customer ID    9994 non-null   object \n",
      " 6   Customer Name  9994 non-null   object \n",
      " 7   Segment        9994 non-null   object \n",
      " 8   Country        9994 non-null   object \n",
      " 9   City           9994 non-null   object \n",
      " 10  State          9994 non-null   object \n",
      " 11  Postal Code    9994 non-null   int64  \n",
      " 12  Region         9994 non-null   object \n",
      " 13  Product ID     9994 non-null   object \n",
      " 14  Category       9994 non-null   object \n",
      " 15  Sub-Category   9994 non-null   object \n",
      " 16  Product Name   9994 non-null   object \n",
      " 17  Sales          9994 non-null   float64\n",
      " 18  Quantity       9994 non-null   int64  \n",
      " 19  Discount       9994 non-null   float64\n",
      " 20  Profit         9994 non-null   float64\n",
      "dtypes: float64(3), int64(3), object(15)\n",
      "memory usage: 1.6+ MB\n"
     ]
    }
   ],
   "source": [
    "df.info()"
   ]
  },
  {
   "cell_type": "code",
   "execution_count": 87,
   "id": "dedaa21f",
   "metadata": {},
   "outputs": [
    {
     "data": {
      "text/html": [
       "<div>\n",
       "<style scoped>\n",
       "    .dataframe tbody tr th:only-of-type {\n",
       "        vertical-align: middle;\n",
       "    }\n",
       "\n",
       "    .dataframe tbody tr th {\n",
       "        vertical-align: top;\n",
       "    }\n",
       "\n",
       "    .dataframe thead th {\n",
       "        text-align: right;\n",
       "    }\n",
       "</style>\n",
       "<table border=\"1\" class=\"dataframe\">\n",
       "  <thead>\n",
       "    <tr style=\"text-align: right;\">\n",
       "      <th></th>\n",
       "      <th>Row ID</th>\n",
       "      <th>Order ID</th>\n",
       "      <th>Order Date</th>\n",
       "      <th>Ship Date</th>\n",
       "      <th>Ship Mode</th>\n",
       "      <th>Customer ID</th>\n",
       "      <th>Customer Name</th>\n",
       "      <th>Segment</th>\n",
       "      <th>Country</th>\n",
       "      <th>City</th>\n",
       "      <th>...</th>\n",
       "      <th>Postal Code</th>\n",
       "      <th>Region</th>\n",
       "      <th>Product ID</th>\n",
       "      <th>Category</th>\n",
       "      <th>Sub-Category</th>\n",
       "      <th>Product Name</th>\n",
       "      <th>Sales</th>\n",
       "      <th>Quantity</th>\n",
       "      <th>Discount</th>\n",
       "      <th>Profit</th>\n",
       "    </tr>\n",
       "  </thead>\n",
       "  <tbody>\n",
       "    <tr>\n",
       "      <th>0</th>\n",
       "      <td>1</td>\n",
       "      <td>CA-2016-152156</td>\n",
       "      <td>11/8/2016</td>\n",
       "      <td>11/11/2016</td>\n",
       "      <td>Second Class</td>\n",
       "      <td>CG-12520</td>\n",
       "      <td>Claire Gute</td>\n",
       "      <td>Consumer</td>\n",
       "      <td>United States</td>\n",
       "      <td>Henderson</td>\n",
       "      <td>...</td>\n",
       "      <td>42420</td>\n",
       "      <td>South</td>\n",
       "      <td>FUR-BO-10001798</td>\n",
       "      <td>Furniture</td>\n",
       "      <td>Bookcases</td>\n",
       "      <td>Bush Somerset Collection Bookcase</td>\n",
       "      <td>261.96</td>\n",
       "      <td>2</td>\n",
       "      <td>0.0</td>\n",
       "      <td>41.9136</td>\n",
       "    </tr>\n",
       "    <tr>\n",
       "      <th>1</th>\n",
       "      <td>2</td>\n",
       "      <td>CA-2016-152156</td>\n",
       "      <td>11/8/2016</td>\n",
       "      <td>11/11/2016</td>\n",
       "      <td>Second Class</td>\n",
       "      <td>CG-12520</td>\n",
       "      <td>Claire Gute</td>\n",
       "      <td>Consumer</td>\n",
       "      <td>United States</td>\n",
       "      <td>Henderson</td>\n",
       "      <td>...</td>\n",
       "      <td>42420</td>\n",
       "      <td>South</td>\n",
       "      <td>FUR-CH-10000454</td>\n",
       "      <td>Furniture</td>\n",
       "      <td>Chairs</td>\n",
       "      <td>Hon Deluxe Fabric Upholstered Stacking Chairs,...</td>\n",
       "      <td>731.94</td>\n",
       "      <td>3</td>\n",
       "      <td>0.0</td>\n",
       "      <td>219.5820</td>\n",
       "    </tr>\n",
       "  </tbody>\n",
       "</table>\n",
       "<p>2 rows × 21 columns</p>\n",
       "</div>"
      ],
      "text/plain": [
       "   Row ID        Order ID Order Date   Ship Date     Ship Mode Customer ID  \\\n",
       "0       1  CA-2016-152156  11/8/2016  11/11/2016  Second Class    CG-12520   \n",
       "1       2  CA-2016-152156  11/8/2016  11/11/2016  Second Class    CG-12520   \n",
       "\n",
       "  Customer Name   Segment        Country       City  ... Postal Code  Region  \\\n",
       "0   Claire Gute  Consumer  United States  Henderson  ...       42420   South   \n",
       "1   Claire Gute  Consumer  United States  Henderson  ...       42420   South   \n",
       "\n",
       "        Product ID   Category Sub-Category  \\\n",
       "0  FUR-BO-10001798  Furniture    Bookcases   \n",
       "1  FUR-CH-10000454  Furniture       Chairs   \n",
       "\n",
       "                                        Product Name   Sales  Quantity  \\\n",
       "0                  Bush Somerset Collection Bookcase  261.96         2   \n",
       "1  Hon Deluxe Fabric Upholstered Stacking Chairs,...  731.94         3   \n",
       "\n",
       "   Discount    Profit  \n",
       "0       0.0   41.9136  \n",
       "1       0.0  219.5820  \n",
       "\n",
       "[2 rows x 21 columns]"
      ]
     },
     "execution_count": 87,
     "metadata": {},
     "output_type": "execute_result"
    }
   ],
   "source": [
    "#read csv from github\n",
    "df_github = pd.read_csv('https://raw.githubusercontent.com/densaiko/data_science_learning/main/dataset/Sample-Superstore%20-%20Orders.csv')\n",
    "df_github.head(2)"
   ]
  },
  {
   "cell_type": "code",
   "execution_count": 89,
   "id": "3085f7a7",
   "metadata": {},
   "outputs": [
    {
     "data": {
      "text/plain": [
       "['Overview',\n",
       " 'Financials',\n",
       " '1-500 with IDs',\n",
       " 'Ben CSV Export',\n",
       " '1-1000',\n",
       " '1001-2000',\n",
       " '2001-3000',\n",
       " '3001-4000',\n",
       " '4001-5000']"
      ]
     },
     "execution_count": 89,
     "metadata": {},
     "output_type": "execute_result"
    }
   ],
   "source": [
    "#excel file to read the tab/sheet\n",
    "df_excel = pd.ExcelFile(\"/home/tyo/Downloads/Startups Data.xlsx\")\n",
    "df_excel.sheet_names"
   ]
  },
  {
   "cell_type": "code",
   "execution_count": 90,
   "id": "0ea0f1c2",
   "metadata": {},
   "outputs": [
    {
     "data": {
      "text/html": [
       "<div>\n",
       "<style scoped>\n",
       "    .dataframe tbody tr th:only-of-type {\n",
       "        vertical-align: middle;\n",
       "    }\n",
       "\n",
       "    .dataframe tbody tr th {\n",
       "        vertical-align: top;\n",
       "    }\n",
       "\n",
       "    .dataframe thead th {\n",
       "        text-align: right;\n",
       "    }\n",
       "</style>\n",
       "<table border=\"1\" class=\"dataframe\">\n",
       "  <thead>\n",
       "    <tr style=\"text-align: right;\">\n",
       "      <th></th>\n",
       "      <th>ID</th>\n",
       "      <th>Name</th>\n",
       "      <th>Industry</th>\n",
       "      <th>Description</th>\n",
       "      <th>Year Founded</th>\n",
       "      <th>Employees</th>\n",
       "      <th>State</th>\n",
       "      <th>City</th>\n",
       "      <th>Metro Area</th>\n",
       "    </tr>\n",
       "  </thead>\n",
       "  <tbody>\n",
       "    <tr>\n",
       "      <th>0</th>\n",
       "      <td>1</td>\n",
       "      <td>Over-Hex</td>\n",
       "      <td>Software</td>\n",
       "      <td>Provides a Web-based CRM tool that allows hosp...</td>\n",
       "      <td>2006</td>\n",
       "      <td>25</td>\n",
       "      <td>TN</td>\n",
       "      <td>Franklin</td>\n",
       "      <td>Nashville</td>\n",
       "    </tr>\n",
       "    <tr>\n",
       "      <th>1</th>\n",
       "      <td>2</td>\n",
       "      <td>Unimattax</td>\n",
       "      <td>IT Services</td>\n",
       "      <td>Helps law firms use Thomson Reuters Elite prac...</td>\n",
       "      <td>2009</td>\n",
       "      <td>36</td>\n",
       "      <td>PA</td>\n",
       "      <td>Newtown Square</td>\n",
       "      <td>Philadelphia</td>\n",
       "    </tr>\n",
       "    <tr>\n",
       "      <th>2</th>\n",
       "      <td>3</td>\n",
       "      <td>Lexila</td>\n",
       "      <td>Real Estate</td>\n",
       "      <td>Offers investment, construction, residential, ...</td>\n",
       "      <td>2013</td>\n",
       "      <td>38</td>\n",
       "      <td>IL</td>\n",
       "      <td>Tinley Park</td>\n",
       "      <td>Chicago</td>\n",
       "    </tr>\n",
       "    <tr>\n",
       "      <th>3</th>\n",
       "      <td>4</td>\n",
       "      <td>Greenfax</td>\n",
       "      <td>Retail</td>\n",
       "      <td>A Verizon Wireless premium retailer that offer...</td>\n",
       "      <td>2012</td>\n",
       "      <td>320</td>\n",
       "      <td>SC</td>\n",
       "      <td>Greenville</td>\n",
       "      <td>Newberry, SC</td>\n",
       "    </tr>\n",
       "    <tr>\n",
       "      <th>4</th>\n",
       "      <td>5</td>\n",
       "      <td>Saoace</td>\n",
       "      <td>Energy</td>\n",
       "      <td>An energy efficiency consulting firm that work...</td>\n",
       "      <td>2009</td>\n",
       "      <td>24</td>\n",
       "      <td>WI</td>\n",
       "      <td>New Holstein</td>\n",
       "      <td>Appleton, WI</td>\n",
       "    </tr>\n",
       "  </tbody>\n",
       "</table>\n",
       "</div>"
      ],
      "text/plain": [
       "   ID       Name     Industry  \\\n",
       "0   1   Over-Hex     Software   \n",
       "1   2  Unimattax  IT Services   \n",
       "2   3     Lexila  Real Estate   \n",
       "3   4   Greenfax       Retail   \n",
       "4   5     Saoace       Energy   \n",
       "\n",
       "                                         Description  Year Founded  Employees  \\\n",
       "0  Provides a Web-based CRM tool that allows hosp...          2006         25   \n",
       "1  Helps law firms use Thomson Reuters Elite prac...          2009         36   \n",
       "2  Offers investment, construction, residential, ...          2013         38   \n",
       "3  A Verizon Wireless premium retailer that offer...          2012        320   \n",
       "4  An energy efficiency consulting firm that work...          2009         24   \n",
       "\n",
       "  State            City    Metro Area  \n",
       "0    TN        Franklin     Nashville  \n",
       "1    PA  Newtown Square  Philadelphia  \n",
       "2    IL     Tinley Park       Chicago  \n",
       "3    SC      Greenville  Newberry, SC  \n",
       "4    WI    New Holstein  Appleton, WI  "
      ]
     },
     "execution_count": 90,
     "metadata": {},
     "output_type": "execute_result"
    }
   ],
   "source": [
    "df_exel = pd.read_excel(\"/home/tyo/Downloads/Startups Data.xlsx\", sheet_name=\"Overview\")\n",
    "df_exel.head()"
   ]
  },
  {
   "cell_type": "code",
   "execution_count": 7,
   "id": "50736a75",
   "metadata": {},
   "outputs": [
    {
     "data": {
      "text/html": [
       "<div>\n",
       "<style scoped>\n",
       "    .dataframe tbody tr th:only-of-type {\n",
       "        vertical-align: middle;\n",
       "    }\n",
       "\n",
       "    .dataframe tbody tr th {\n",
       "        vertical-align: top;\n",
       "    }\n",
       "\n",
       "    .dataframe thead th {\n",
       "        text-align: right;\n",
       "    }\n",
       "</style>\n",
       "<table border=\"1\" class=\"dataframe\">\n",
       "  <thead>\n",
       "    <tr style=\"text-align: right;\">\n",
       "      <th></th>\n",
       "      <th>calories</th>\n",
       "      <th>protein</th>\n",
       "      <th>fat</th>\n",
       "    </tr>\n",
       "  </thead>\n",
       "  <tbody>\n",
       "    <tr>\n",
       "      <th>12</th>\n",
       "      <td>12</td>\n",
       "      <td>24</td>\n",
       "      <td>6.0</td>\n",
       "    </tr>\n",
       "    <tr>\n",
       "      <th>13</th>\n",
       "      <td>13</td>\n",
       "      <td>26</td>\n",
       "      <td>6.5</td>\n",
       "    </tr>\n",
       "    <tr>\n",
       "      <th>14</th>\n",
       "      <td>14</td>\n",
       "      <td>28</td>\n",
       "      <td>7.0</td>\n",
       "    </tr>\n",
       "    <tr>\n",
       "      <th>15</th>\n",
       "      <td>15</td>\n",
       "      <td>30</td>\n",
       "      <td>7.5</td>\n",
       "    </tr>\n",
       "    <tr>\n",
       "      <th>16</th>\n",
       "      <td>16</td>\n",
       "      <td>32</td>\n",
       "      <td>8.0</td>\n",
       "    </tr>\n",
       "    <tr>\n",
       "      <th>17</th>\n",
       "      <td>17</td>\n",
       "      <td>34</td>\n",
       "      <td>8.5</td>\n",
       "    </tr>\n",
       "    <tr>\n",
       "      <th>18</th>\n",
       "      <td>18</td>\n",
       "      <td>36</td>\n",
       "      <td>9.0</td>\n",
       "    </tr>\n",
       "    <tr>\n",
       "      <th>19</th>\n",
       "      <td>19</td>\n",
       "      <td>38</td>\n",
       "      <td>9.5</td>\n",
       "    </tr>\n",
       "    <tr>\n",
       "      <th>20</th>\n",
       "      <td>20</td>\n",
       "      <td>40</td>\n",
       "      <td>10.0</td>\n",
       "    </tr>\n",
       "    <tr>\n",
       "      <th>21</th>\n",
       "      <td>21</td>\n",
       "      <td>42</td>\n",
       "      <td>10.5</td>\n",
       "    </tr>\n",
       "  </tbody>\n",
       "</table>\n",
       "</div>"
      ],
      "text/plain": [
       "    calories  protein   fat\n",
       "12        12       24   6.0\n",
       "13        13       26   6.5\n",
       "14        14       28   7.0\n",
       "15        15       30   7.5\n",
       "16        16       32   8.0\n",
       "17        17       34   8.5\n",
       "18        18       36   9.0\n",
       "19        19       38   9.5\n",
       "20        20       40  10.0\n",
       "21        21       42  10.5"
      ]
     },
     "execution_count": 7,
     "metadata": {},
     "output_type": "execute_result"
    }
   ],
   "source": [
    "data = {\n",
    "    'name': ['Item{}'.format(i) for i in range(1000)],\n",
    "    'type': ['Type{}'.format(i) for i in range(1000)],\n",
    "    'calories': [i for i in range(1000)],\n",
    "    'protein': [i * 2 for i in range(1000)],\n",
    "    'fat': [i * 0.5 for i in range(1000)]\n",
    "}\n",
    "\n",
    "df = pd.DataFrame(data)\n",
    "\n",
    "# Memilih bagian yang diminta\n",
    "selected_df = df.loc[12:21, ['calories', 'protein', 'fat']]\n",
    "selected_df"
   ]
  },
  {
   "cell_type": "code",
   "execution_count": 8,
   "id": "d8802d70",
   "metadata": {},
   "outputs": [
    {
     "data": {
      "text/html": [
       "<div>\n",
       "<style scoped>\n",
       "    .dataframe tbody tr th:only-of-type {\n",
       "        vertical-align: middle;\n",
       "    }\n",
       "\n",
       "    .dataframe tbody tr th {\n",
       "        vertical-align: top;\n",
       "    }\n",
       "\n",
       "    .dataframe thead th {\n",
       "        text-align: right;\n",
       "    }\n",
       "</style>\n",
       "<table border=\"1\" class=\"dataframe\">\n",
       "  <thead>\n",
       "    <tr style=\"text-align: right;\">\n",
       "      <th></th>\n",
       "      <th>name</th>\n",
       "      <th>type</th>\n",
       "      <th>calories</th>\n",
       "      <th>protein</th>\n",
       "      <th>fat</th>\n",
       "    </tr>\n",
       "  </thead>\n",
       "  <tbody>\n",
       "    <tr>\n",
       "      <th>0</th>\n",
       "      <td>Item0</td>\n",
       "      <td>Type0</td>\n",
       "      <td>0</td>\n",
       "      <td>0</td>\n",
       "      <td>0.0</td>\n",
       "    </tr>\n",
       "    <tr>\n",
       "      <th>1</th>\n",
       "      <td>Item1</td>\n",
       "      <td>Type1</td>\n",
       "      <td>1</td>\n",
       "      <td>2</td>\n",
       "      <td>0.5</td>\n",
       "    </tr>\n",
       "    <tr>\n",
       "      <th>2</th>\n",
       "      <td>Item2</td>\n",
       "      <td>Type2</td>\n",
       "      <td>2</td>\n",
       "      <td>4</td>\n",
       "      <td>1.0</td>\n",
       "    </tr>\n",
       "    <tr>\n",
       "      <th>3</th>\n",
       "      <td>Item3</td>\n",
       "      <td>Type3</td>\n",
       "      <td>3</td>\n",
       "      <td>6</td>\n",
       "      <td>1.5</td>\n",
       "    </tr>\n",
       "    <tr>\n",
       "      <th>4</th>\n",
       "      <td>Item4</td>\n",
       "      <td>Type4</td>\n",
       "      <td>4</td>\n",
       "      <td>8</td>\n",
       "      <td>2.0</td>\n",
       "    </tr>\n",
       "    <tr>\n",
       "      <th>...</th>\n",
       "      <td>...</td>\n",
       "      <td>...</td>\n",
       "      <td>...</td>\n",
       "      <td>...</td>\n",
       "      <td>...</td>\n",
       "    </tr>\n",
       "    <tr>\n",
       "      <th>995</th>\n",
       "      <td>Item995</td>\n",
       "      <td>Type995</td>\n",
       "      <td>995</td>\n",
       "      <td>1990</td>\n",
       "      <td>497.5</td>\n",
       "    </tr>\n",
       "    <tr>\n",
       "      <th>996</th>\n",
       "      <td>Item996</td>\n",
       "      <td>Type996</td>\n",
       "      <td>996</td>\n",
       "      <td>1992</td>\n",
       "      <td>498.0</td>\n",
       "    </tr>\n",
       "    <tr>\n",
       "      <th>997</th>\n",
       "      <td>Item997</td>\n",
       "      <td>Type997</td>\n",
       "      <td>997</td>\n",
       "      <td>1994</td>\n",
       "      <td>498.5</td>\n",
       "    </tr>\n",
       "    <tr>\n",
       "      <th>998</th>\n",
       "      <td>Item998</td>\n",
       "      <td>Type998</td>\n",
       "      <td>998</td>\n",
       "      <td>1996</td>\n",
       "      <td>499.0</td>\n",
       "    </tr>\n",
       "    <tr>\n",
       "      <th>999</th>\n",
       "      <td>Item999</td>\n",
       "      <td>Type999</td>\n",
       "      <td>999</td>\n",
       "      <td>1998</td>\n",
       "      <td>499.5</td>\n",
       "    </tr>\n",
       "  </tbody>\n",
       "</table>\n",
       "<p>1000 rows × 5 columns</p>\n",
       "</div>"
      ],
      "text/plain": [
       "        name     type  calories  protein    fat\n",
       "0      Item0    Type0         0        0    0.0\n",
       "1      Item1    Type1         1        2    0.5\n",
       "2      Item2    Type2         2        4    1.0\n",
       "3      Item3    Type3         3        6    1.5\n",
       "4      Item4    Type4         4        8    2.0\n",
       "..       ...      ...       ...      ...    ...\n",
       "995  Item995  Type995       995     1990  497.5\n",
       "996  Item996  Type996       996     1992  498.0\n",
       "997  Item997  Type997       997     1994  498.5\n",
       "998  Item998  Type998       998     1996  499.0\n",
       "999  Item999  Type999       999     1998  499.5\n",
       "\n",
       "[1000 rows x 5 columns]"
      ]
     },
     "execution_count": 8,
     "metadata": {},
     "output_type": "execute_result"
    }
   ],
   "source": [
    "df"
   ]
  },
  {
   "cell_type": "code",
   "execution_count": 11,
   "id": "6d13d45d",
   "metadata": {},
   "outputs": [
    {
     "data": {
      "text/html": [
       "<div>\n",
       "<style scoped>\n",
       "    .dataframe tbody tr th:only-of-type {\n",
       "        vertical-align: middle;\n",
       "    }\n",
       "\n",
       "    .dataframe tbody tr th {\n",
       "        vertical-align: top;\n",
       "    }\n",
       "\n",
       "    .dataframe thead th {\n",
       "        text-align: right;\n",
       "    }\n",
       "</style>\n",
       "<table border=\"1\" class=\"dataframe\">\n",
       "  <thead>\n",
       "    <tr style=\"text-align: right;\">\n",
       "      <th></th>\n",
       "      <th>calories</th>\n",
       "      <th>protein</th>\n",
       "      <th>fat</th>\n",
       "    </tr>\n",
       "  </thead>\n",
       "  <tbody>\n",
       "    <tr>\n",
       "      <th>calories</th>\n",
       "      <td>1.0</td>\n",
       "      <td>1.0</td>\n",
       "      <td>1.0</td>\n",
       "    </tr>\n",
       "    <tr>\n",
       "      <th>protein</th>\n",
       "      <td>1.0</td>\n",
       "      <td>1.0</td>\n",
       "      <td>1.0</td>\n",
       "    </tr>\n",
       "    <tr>\n",
       "      <th>fat</th>\n",
       "      <td>1.0</td>\n",
       "      <td>1.0</td>\n",
       "      <td>1.0</td>\n",
       "    </tr>\n",
       "  </tbody>\n",
       "</table>\n",
       "</div>"
      ],
      "text/plain": [
       "          calories  protein  fat\n",
       "calories       1.0      1.0  1.0\n",
       "protein        1.0      1.0  1.0\n",
       "fat            1.0      1.0  1.0"
      ]
     },
     "execution_count": 11,
     "metadata": {},
     "output_type": "execute_result"
    }
   ],
   "source": [
    "df.corr()"
   ]
  },
  {
   "cell_type": "code",
   "execution_count": 16,
   "id": "257820d2",
   "metadata": {},
   "outputs": [],
   "source": [
    "my_array = np.array([1,2,3,4,5,6,7])"
   ]
  },
  {
   "cell_type": "code",
   "execution_count": 26,
   "id": "3dd0a7a0",
   "metadata": {},
   "outputs": [
    {
     "data": {
      "text/plain": [
       "array([2, 4, 6])"
      ]
     },
     "execution_count": 26,
     "metadata": {},
     "output_type": "execute_result"
    }
   ],
   "source": [
    "my_array[1::2]"
   ]
  },
  {
   "cell_type": "code",
   "execution_count": 39,
   "id": "9e345a55",
   "metadata": {},
   "outputs": [
    {
     "data": {
      "text/plain": [
       "array([3, 4, 5])"
      ]
     },
     "execution_count": 39,
     "metadata": {},
     "output_type": "execute_result"
    }
   ],
   "source": [
    "arr = np.array([1,2,3,4,5,6,7])\n",
    "arr[2:5]"
   ]
  },
  {
   "cell_type": "code",
   "execution_count": null,
   "id": "ab813afc",
   "metadata": {},
   "outputs": [],
   "source": []
  }
 ],
 "metadata": {
  "kernelspec": {
   "display_name": "Python 3 (ipykernel)",
   "language": "python",
   "name": "python3"
  },
  "language_info": {
   "codemirror_mode": {
    "name": "ipython",
    "version": 3
   },
   "file_extension": ".py",
   "mimetype": "text/x-python",
   "name": "python",
   "nbconvert_exporter": "python",
   "pygments_lexer": "ipython3",
   "version": "3.10.9"
  }
 },
 "nbformat": 4,
 "nbformat_minor": 5
}
